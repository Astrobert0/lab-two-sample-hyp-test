{
 "cells": [
  {
   "cell_type": "markdown",
   "metadata": {},
   "source": [
    "# Before your start:\n",
    "- Read the README.md file\n",
    "- Comment as much as you can and use the resources (README.md file)\n",
    "- Happy learning!\n",
    "\n",
    "- **Consider a significance level of 5% for all tests.**"
   ]
  },
  {
   "cell_type": "code",
   "execution_count": 2,
   "metadata": {},
   "outputs": [],
   "source": [
    "# import numpy and pandas\n",
    "import numpy as np\n",
    "import pandas as pd\n",
    "from scipy import stats"
   ]
  },
  {
   "cell_type": "markdown",
   "metadata": {},
   "source": [
    "# Challenge 1 - Independent Sample T-tests\n",
    "\n",
    "In this challenge, we will be using the Pokemon dataset. Before applying statistical methods to this data, let's first examine the data.\n",
    "\n",
    "To load the data, run the code below."
   ]
  },
  {
   "cell_type": "code",
   "execution_count": 3,
   "metadata": {},
   "outputs": [],
   "source": [
    "# Run this code:\n",
    "\n",
    "pokemon = pd.read_csv('../pokemon.csv')\n"
   ]
  },
  {
   "cell_type": "markdown",
   "metadata": {},
   "source": [
    "Let's start off by looking at the `head` function in the cell below."
   ]
  },
  {
   "cell_type": "code",
   "execution_count": 4,
   "metadata": {},
   "outputs": [
    {
     "output_type": "execute_result",
     "data": {
      "text/plain": [
       "   #                   Name Type 1  Type 2  Total  HP  Attack  Defense  \\\n",
       "0  1              Bulbasaur  Grass  Poison    318  45      49       49   \n",
       "1  2                Ivysaur  Grass  Poison    405  60      62       63   \n",
       "2  3               Venusaur  Grass  Poison    525  80      82       83   \n",
       "3  3  VenusaurMega Venusaur  Grass  Poison    625  80     100      123   \n",
       "4  4             Charmander   Fire     NaN    309  39      52       43   \n",
       "\n",
       "   Sp. Atk  Sp. Def  Speed  Generation  Legendary  \n",
       "0       65       65     45           1      False  \n",
       "1       80       80     60           1      False  \n",
       "2      100      100     80           1      False  \n",
       "3      122      120     80           1      False  \n",
       "4       60       50     65           1      False  "
      ],
      "text/html": "<div>\n<style scoped>\n    .dataframe tbody tr th:only-of-type {\n        vertical-align: middle;\n    }\n\n    .dataframe tbody tr th {\n        vertical-align: top;\n    }\n\n    .dataframe thead th {\n        text-align: right;\n    }\n</style>\n<table border=\"1\" class=\"dataframe\">\n  <thead>\n    <tr style=\"text-align: right;\">\n      <th></th>\n      <th>#</th>\n      <th>Name</th>\n      <th>Type 1</th>\n      <th>Type 2</th>\n      <th>Total</th>\n      <th>HP</th>\n      <th>Attack</th>\n      <th>Defense</th>\n      <th>Sp. Atk</th>\n      <th>Sp. Def</th>\n      <th>Speed</th>\n      <th>Generation</th>\n      <th>Legendary</th>\n    </tr>\n  </thead>\n  <tbody>\n    <tr>\n      <th>0</th>\n      <td>1</td>\n      <td>Bulbasaur</td>\n      <td>Grass</td>\n      <td>Poison</td>\n      <td>318</td>\n      <td>45</td>\n      <td>49</td>\n      <td>49</td>\n      <td>65</td>\n      <td>65</td>\n      <td>45</td>\n      <td>1</td>\n      <td>False</td>\n    </tr>\n    <tr>\n      <th>1</th>\n      <td>2</td>\n      <td>Ivysaur</td>\n      <td>Grass</td>\n      <td>Poison</td>\n      <td>405</td>\n      <td>60</td>\n      <td>62</td>\n      <td>63</td>\n      <td>80</td>\n      <td>80</td>\n      <td>60</td>\n      <td>1</td>\n      <td>False</td>\n    </tr>\n    <tr>\n      <th>2</th>\n      <td>3</td>\n      <td>Venusaur</td>\n      <td>Grass</td>\n      <td>Poison</td>\n      <td>525</td>\n      <td>80</td>\n      <td>82</td>\n      <td>83</td>\n      <td>100</td>\n      <td>100</td>\n      <td>80</td>\n      <td>1</td>\n      <td>False</td>\n    </tr>\n    <tr>\n      <th>3</th>\n      <td>3</td>\n      <td>VenusaurMega Venusaur</td>\n      <td>Grass</td>\n      <td>Poison</td>\n      <td>625</td>\n      <td>80</td>\n      <td>100</td>\n      <td>123</td>\n      <td>122</td>\n      <td>120</td>\n      <td>80</td>\n      <td>1</td>\n      <td>False</td>\n    </tr>\n    <tr>\n      <th>4</th>\n      <td>4</td>\n      <td>Charmander</td>\n      <td>Fire</td>\n      <td>NaN</td>\n      <td>309</td>\n      <td>39</td>\n      <td>52</td>\n      <td>43</td>\n      <td>60</td>\n      <td>50</td>\n      <td>65</td>\n      <td>1</td>\n      <td>False</td>\n    </tr>\n  </tbody>\n</table>\n</div>"
     },
     "metadata": {},
     "execution_count": 4
    }
   ],
   "source": [
    "# Your code here:\n",
    "pokemon.head()"
   ]
  },
  {
   "cell_type": "markdown",
   "metadata": {},
   "source": [
    "The first thing we would like to do is compare the legendary Pokemon to the regular Pokemon. To do this, we should examine the data further. What is the count of legendary vs. non legendary Pokemons?"
   ]
  },
  {
   "cell_type": "code",
   "execution_count": 5,
   "metadata": {},
   "outputs": [
    {
     "output_type": "execute_result",
     "data": {
      "text/plain": [
       "False    735\n",
       "True      65\n",
       "Name: Legendary, dtype: int64"
      ]
     },
     "metadata": {},
     "execution_count": 5
    }
   ],
   "source": [
    "# Your code here:\n",
    "pokemon['Legendary'].value_counts()\n"
   ]
  },
  {
   "cell_type": "markdown",
   "metadata": {},
   "source": [
    "Compute the mean and standard deviation of the total points for both legendary and non-legendary Pokemon."
   ]
  },
  {
   "cell_type": "code",
   "execution_count": 6,
   "metadata": {},
   "outputs": [
    {
     "output_type": "stream",
     "name": "stdout",
     "text": [
      "legendary 637.3846153846154 60.93738905315344 \n no legendary 417.21360544217686 106.76041745713005\n"
     ]
    }
   ],
   "source": [
    "# Your code here:\n",
    "legendary_mean = pokemon[pokemon['Legendary']==True]['Total'].mean()\n",
    "legendary_std = pokemon[pokemon['Legendary']==True]['Total'].std()\n",
    "\n",
    "no_legend_mean = pokemon[pokemon['Legendary']==False]['Total'].mean()\n",
    "no_legend_std = pokemon[pokemon['Legendary']==False]['Total'].std()\n",
    "\n",
    "print('legendary',legendary_mean, legendary_std,'\\n','no legendary', no_legend_mean,no_legend_std)"
   ]
  },
  {
   "cell_type": "markdown",
   "metadata": {},
   "source": [
    "The computation of the mean might give us a clue regarding how the statistical test may turn out; However, it certainly does not prove whether there is a significant difference between the two groups.\n",
    "\n",
    "In the cell below, use the `ttest_ind` function in `scipy.stats` to compare the the total points for legendary and non-legendary Pokemon. Since we do not have any information about the population, assume the variances are not equal."
   ]
  },
  {
   "cell_type": "code",
   "execution_count": 7,
   "metadata": {},
   "outputs": [
    {
     "output_type": "execute_result",
     "data": {
      "text/plain": [
       "Ttest_indResult(statistic=25.8335743895517, pvalue=9.357954335957444e-47)"
      ]
     },
     "metadata": {},
     "execution_count": 7
    }
   ],
   "source": [
    "# Your code here:\n",
    "#H0:\n",
    "legend_sample = pokemon[pokemon['Legendary']==True]['Total']\n",
    "no_legend_sample = pokemon[pokemon['Legendary']==False]['Total']\n",
    "stats.ttest_ind(legend_sample ,no_legend_sample,equal_var=False)\n"
   ]
  },
  {
   "cell_type": "markdown",
   "metadata": {},
   "source": [
    "What do you conclude from this test? Write your conclusions below."
   ]
  },
  {
   "cell_type": "code",
   "execution_count": 8,
   "metadata": {},
   "outputs": [
    {
     "output_type": "execute_result",
     "data": {
      "text/plain": [
       "'The pvalue < than our significance lvl this mean that we should reject the null hypothesis'"
      ]
     },
     "metadata": {},
     "execution_count": 8
    }
   ],
   "source": [
    "# Your conclusions here:\n",
    "\"\"\"The pvalue < than our significance lvl this mean that we should reject the null hypothesis\"\"\"\n"
   ]
  },
  {
   "cell_type": "markdown",
   "metadata": {},
   "source": [
    "How about we try to compare the different types of pokemon? In the cell below, list the types of Pokemon from column `Type 1` and the count of each type."
   ]
  },
  {
   "cell_type": "code",
   "execution_count": 9,
   "metadata": {},
   "outputs": [
    {
     "output_type": "execute_result",
     "data": {
      "text/plain": [
       "Water       112\n",
       "Normal       98\n",
       "Grass        70\n",
       "Bug          69\n",
       "Psychic      57\n",
       "Fire         52\n",
       "Rock         44\n",
       "Electric     44\n",
       "Ground       32\n",
       "Dragon       32\n",
       "Ghost        32\n",
       "Dark         31\n",
       "Poison       28\n",
       "Fighting     27\n",
       "Steel        27\n",
       "Ice          24\n",
       "Fairy        17\n",
       "Flying        4\n",
       "Name: Type 1, dtype: int64"
      ]
     },
     "metadata": {},
     "execution_count": 9
    }
   ],
   "source": [
    "# Your code here:\n",
    "\n",
    "pokemon['Type 1'].value_counts()\n"
   ]
  },
  {
   "cell_type": "markdown",
   "metadata": {},
   "source": [
    "Since water is the largest group of Pokemon, compare the mean and standard deviation of water Pokemon to all other Pokemon."
   ]
  },
  {
   "cell_type": "code",
   "execution_count": 10,
   "metadata": {},
   "outputs": [
    {
     "output_type": "execute_result",
     "data": {
      "text/plain": [
       "          count        mean         std    min     25%    50%     75%    max\n",
       "Type 1                                                                      \n",
       "Bug        69.0  378.927536  117.875223  194.0  269.00  395.0  475.00  600.0\n",
       "Dark       31.0  445.741935  109.126217  220.0  359.00  465.0  510.00  680.0\n",
       "Dragon     32.0  550.531250  146.267538  300.0  420.00  600.0  680.00  780.0\n",
       "Electric   44.0  443.409091  105.721952  205.0  362.25  477.5  520.00  610.0\n",
       "Fairy      17.0  413.176471  123.781680  218.0  323.00  405.0  483.00  680.0\n",
       "Fighting   27.0  416.444444  102.464378  210.0  326.50  455.0  497.50  625.0\n",
       "Fire       52.0  458.076923  109.760496  250.0  368.00  482.0  534.00  680.0\n",
       "Flying      4.0  485.000000  161.400124  245.0  462.50  557.5  580.00  580.0\n",
       "Ghost      32.0  439.562500  110.072685  275.0  335.00  464.5  495.75  680.0\n",
       "Grass      70.0  421.142857  106.650626  180.0  318.50  430.0  497.00  630.0\n",
       "Ground     32.0  437.500000  123.913081  265.0  329.50  440.0  512.25  770.0\n",
       "Ice        24.0  433.458333  108.281027  250.0  305.00  467.5  526.25  580.0\n",
       "Normal     98.0  401.683673  115.733038  190.0  302.50  415.0  481.50  720.0\n",
       "Poison     28.0  399.142857   92.358687  245.0  323.75  401.5  490.00  535.0\n",
       "Psychic    57.0  475.947368  139.026645  198.0  336.00  485.0  600.00  780.0\n",
       "Rock       44.0  453.750000  108.059227  280.0  360.25  467.5  516.50  700.0\n",
       "Steel      27.0  487.703704  115.420907  300.0  425.00  500.0  580.00  700.0\n",
       "Water     112.0  430.455357  113.188266  200.0  328.75  455.0  502.25  770.0"
      ],
      "text/html": "<div>\n<style scoped>\n    .dataframe tbody tr th:only-of-type {\n        vertical-align: middle;\n    }\n\n    .dataframe tbody tr th {\n        vertical-align: top;\n    }\n\n    .dataframe thead th {\n        text-align: right;\n    }\n</style>\n<table border=\"1\" class=\"dataframe\">\n  <thead>\n    <tr style=\"text-align: right;\">\n      <th></th>\n      <th>count</th>\n      <th>mean</th>\n      <th>std</th>\n      <th>min</th>\n      <th>25%</th>\n      <th>50%</th>\n      <th>75%</th>\n      <th>max</th>\n    </tr>\n    <tr>\n      <th>Type 1</th>\n      <th></th>\n      <th></th>\n      <th></th>\n      <th></th>\n      <th></th>\n      <th></th>\n      <th></th>\n      <th></th>\n    </tr>\n  </thead>\n  <tbody>\n    <tr>\n      <th>Bug</th>\n      <td>69.0</td>\n      <td>378.927536</td>\n      <td>117.875223</td>\n      <td>194.0</td>\n      <td>269.00</td>\n      <td>395.0</td>\n      <td>475.00</td>\n      <td>600.0</td>\n    </tr>\n    <tr>\n      <th>Dark</th>\n      <td>31.0</td>\n      <td>445.741935</td>\n      <td>109.126217</td>\n      <td>220.0</td>\n      <td>359.00</td>\n      <td>465.0</td>\n      <td>510.00</td>\n      <td>680.0</td>\n    </tr>\n    <tr>\n      <th>Dragon</th>\n      <td>32.0</td>\n      <td>550.531250</td>\n      <td>146.267538</td>\n      <td>300.0</td>\n      <td>420.00</td>\n      <td>600.0</td>\n      <td>680.00</td>\n      <td>780.0</td>\n    </tr>\n    <tr>\n      <th>Electric</th>\n      <td>44.0</td>\n      <td>443.409091</td>\n      <td>105.721952</td>\n      <td>205.0</td>\n      <td>362.25</td>\n      <td>477.5</td>\n      <td>520.00</td>\n      <td>610.0</td>\n    </tr>\n    <tr>\n      <th>Fairy</th>\n      <td>17.0</td>\n      <td>413.176471</td>\n      <td>123.781680</td>\n      <td>218.0</td>\n      <td>323.00</td>\n      <td>405.0</td>\n      <td>483.00</td>\n      <td>680.0</td>\n    </tr>\n    <tr>\n      <th>Fighting</th>\n      <td>27.0</td>\n      <td>416.444444</td>\n      <td>102.464378</td>\n      <td>210.0</td>\n      <td>326.50</td>\n      <td>455.0</td>\n      <td>497.50</td>\n      <td>625.0</td>\n    </tr>\n    <tr>\n      <th>Fire</th>\n      <td>52.0</td>\n      <td>458.076923</td>\n      <td>109.760496</td>\n      <td>250.0</td>\n      <td>368.00</td>\n      <td>482.0</td>\n      <td>534.00</td>\n      <td>680.0</td>\n    </tr>\n    <tr>\n      <th>Flying</th>\n      <td>4.0</td>\n      <td>485.000000</td>\n      <td>161.400124</td>\n      <td>245.0</td>\n      <td>462.50</td>\n      <td>557.5</td>\n      <td>580.00</td>\n      <td>580.0</td>\n    </tr>\n    <tr>\n      <th>Ghost</th>\n      <td>32.0</td>\n      <td>439.562500</td>\n      <td>110.072685</td>\n      <td>275.0</td>\n      <td>335.00</td>\n      <td>464.5</td>\n      <td>495.75</td>\n      <td>680.0</td>\n    </tr>\n    <tr>\n      <th>Grass</th>\n      <td>70.0</td>\n      <td>421.142857</td>\n      <td>106.650626</td>\n      <td>180.0</td>\n      <td>318.50</td>\n      <td>430.0</td>\n      <td>497.00</td>\n      <td>630.0</td>\n    </tr>\n    <tr>\n      <th>Ground</th>\n      <td>32.0</td>\n      <td>437.500000</td>\n      <td>123.913081</td>\n      <td>265.0</td>\n      <td>329.50</td>\n      <td>440.0</td>\n      <td>512.25</td>\n      <td>770.0</td>\n    </tr>\n    <tr>\n      <th>Ice</th>\n      <td>24.0</td>\n      <td>433.458333</td>\n      <td>108.281027</td>\n      <td>250.0</td>\n      <td>305.00</td>\n      <td>467.5</td>\n      <td>526.25</td>\n      <td>580.0</td>\n    </tr>\n    <tr>\n      <th>Normal</th>\n      <td>98.0</td>\n      <td>401.683673</td>\n      <td>115.733038</td>\n      <td>190.0</td>\n      <td>302.50</td>\n      <td>415.0</td>\n      <td>481.50</td>\n      <td>720.0</td>\n    </tr>\n    <tr>\n      <th>Poison</th>\n      <td>28.0</td>\n      <td>399.142857</td>\n      <td>92.358687</td>\n      <td>245.0</td>\n      <td>323.75</td>\n      <td>401.5</td>\n      <td>490.00</td>\n      <td>535.0</td>\n    </tr>\n    <tr>\n      <th>Psychic</th>\n      <td>57.0</td>\n      <td>475.947368</td>\n      <td>139.026645</td>\n      <td>198.0</td>\n      <td>336.00</td>\n      <td>485.0</td>\n      <td>600.00</td>\n      <td>780.0</td>\n    </tr>\n    <tr>\n      <th>Rock</th>\n      <td>44.0</td>\n      <td>453.750000</td>\n      <td>108.059227</td>\n      <td>280.0</td>\n      <td>360.25</td>\n      <td>467.5</td>\n      <td>516.50</td>\n      <td>700.0</td>\n    </tr>\n    <tr>\n      <th>Steel</th>\n      <td>27.0</td>\n      <td>487.703704</td>\n      <td>115.420907</td>\n      <td>300.0</td>\n      <td>425.00</td>\n      <td>500.0</td>\n      <td>580.00</td>\n      <td>700.0</td>\n    </tr>\n    <tr>\n      <th>Water</th>\n      <td>112.0</td>\n      <td>430.455357</td>\n      <td>113.188266</td>\n      <td>200.0</td>\n      <td>328.75</td>\n      <td>455.0</td>\n      <td>502.25</td>\n      <td>770.0</td>\n    </tr>\n  </tbody>\n</table>\n</div>"
     },
     "metadata": {},
     "execution_count": 10
    }
   ],
   "source": [
    "# Your code here:\n",
    "pokemon.groupby(by='Type 1')['Total'].describe()\n"
   ]
  },
  {
   "cell_type": "markdown",
   "metadata": {},
   "source": [
    "Perform a hypothesis test comparing the mean of total points for water Pokemon to all non-water Pokemon. Assume the variances are equal. "
   ]
  },
  {
   "cell_type": "code",
   "execution_count": 11,
   "metadata": {},
   "outputs": [
    {
     "output_type": "execute_result",
     "data": {
      "text/plain": [
       "Ttest_indResult(statistic=-0.01097214606537521, pvalue=0.9912679751239534)"
      ]
     },
     "metadata": {},
     "execution_count": 11
    }
   ],
   "source": [
    "# Your code here:\n",
    "\"\"\"\n",
    "H0: water type mean <= non water type mean\n",
    "H1: water type mean > non water type mean\n",
    "significance 0.05\n",
    "\"\"\"\n",
    "no_water_sample1 = np.random.choice(pokemon[pokemon['Type 1'] != 'Water']['Total'], size=50)\n",
    "water_sample1 = np.random.choice(pokemon[pokemon['Type 1'] == 'Water']['Total'],size=50)\n",
    "stats.ttest_ind(no_water_sample1,water_sample1)"
   ]
  },
  {
   "cell_type": "markdown",
   "metadata": {},
   "source": [
    "Write your conclusion below."
   ]
  },
  {
   "cell_type": "code",
   "execution_count": 12,
   "metadata": {},
   "outputs": [
    {
     "output_type": "execute_result",
     "data": {
      "text/plain": [
       "'Since our p-value is greater than 0.05 this mean that we should accept H0, the mean of the water type is less than than the non-water type'"
      ]
     },
     "metadata": {},
     "execution_count": 12
    }
   ],
   "source": [
    "# Your conclusions here:\n",
    "\"\"\"Since our p-value is greater than 0.05 this mean that we should accept H0, the mean of the water type is less than than the non-water type\"\"\""
   ]
  },
  {
   "cell_type": "markdown",
   "metadata": {},
   "source": [
    "# Challenge 2 - Matched Pairs Test\n",
    "\n",
    "In this challenge we will compare dependent samples of data describing our Pokemon. Our goal is to see whether there is a significant difference between each Pokemon's defense and attack scores. Our hypothesis is that the defense and attack scores are equal. In the cell below, import the `ttest_rel` function from `scipy.stats` and compare the two columns to see if there is a statistically significant difference between them."
   ]
  },
  {
   "cell_type": "code",
   "execution_count": 13,
   "metadata": {},
   "outputs": [
    {
     "output_type": "execute_result",
     "data": {
      "text/plain": [
       "Ttest_relResult(statistic=4.325566393330478, pvalue=1.7140303479358558e-05)"
      ]
     },
     "metadata": {},
     "execution_count": 13
    }
   ],
   "source": [
    "# Your code here:\n",
    "\"\"\"\n",
    "H0: defense mu != attack mu\n",
    "H1: defense mu = attack mu\n",
    "\"\"\"\n",
    "pokemon\n",
    "\n",
    "stats.ttest_rel(pokemon['Attack'],pokemon['Defense']) \n"
   ]
  },
  {
   "cell_type": "markdown",
   "metadata": {},
   "source": [
    "Describe the results of the test in the cell below."
   ]
  },
  {
   "cell_type": "code",
   "execution_count": 14,
   "metadata": {},
   "outputs": [],
   "source": [
    "# Your conclusions here:\n",
    "#p-value is lower than our significance level, this means that the defense and the attack should not be equal\n"
   ]
  },
  {
   "cell_type": "markdown",
   "metadata": {},
   "source": [
    "We are also curious about whether therer is a significant difference between the mean of special defense and the mean of special attack. Perform the hypothesis test in the cell below. "
   ]
  },
  {
   "cell_type": "code",
   "execution_count": 15,
   "metadata": {},
   "outputs": [
    {
     "output_type": "execute_result",
     "data": {
      "text/plain": [
       "Ttest_relResult(statistic=0.853986188453353, pvalue=0.3933685997548122)"
      ]
     },
     "metadata": {},
     "execution_count": 15
    }
   ],
   "source": [
    "# Your code here:\n",
    "#H0: sp atk mean != sp atk def   H1: sp. def mean = sp.atk mean\n",
    "stats.ttest_rel(pokemon['Sp. Atk'],pokemon['Sp. Def'])"
   ]
  },
  {
   "cell_type": "markdown",
   "metadata": {},
   "source": [
    "Describe the results of the test in the cell below."
   ]
  },
  {
   "cell_type": "code",
   "execution_count": 16,
   "metadata": {},
   "outputs": [],
   "source": [
    "# Your conclusions here:\n",
    "#In this case the p-value is greater than our significance level, this mean that the special attack and deffense should be equal most of the cases\n"
   ]
  },
  {
   "cell_type": "markdown",
   "metadata": {},
   "source": [
    "As you may recall, a two sample matched pairs test can also be expressed as a one sample test of the difference between the two dependent columns.\n",
    "\n",
    "Import the `ttest_1samp` function and perform a one sample t-test of the difference between defense and attack. Test the hypothesis that the difference between the means is zero. Confirm that the results of the test are the same."
   ]
  },
  {
   "cell_type": "code",
   "execution_count": 17,
   "metadata": {},
   "outputs": [
    {
     "output_type": "execute_result",
     "data": {
      "text/plain": [
       "Ttest_1sampResult(statistic=4.325566393330478, pvalue=1.7140303479358558e-05)"
      ]
     },
     "metadata": {},
     "execution_count": 17
    }
   ],
   "source": [
    "# Your code here:\n",
    "\"\"\"\n",
    "H0: difference mean != 0\n",
    "H1: difference mean =  0\n",
    "\"\"\"\n",
    "difference = pokemon['Attack'] - pokemon['Defense']\n",
    "stats.ttest_1samp(difference,0) \n",
    "\n",
    "#p-value: how likely is to be true the null hypotesis based on the sample that we got?"
   ]
  },
  {
   "cell_type": "markdown",
   "metadata": {},
   "source": [
    "# Bonus Challenge - The Chi-Square Test\n",
    "\n",
    "The Chi-Square test is used to determine whether there is a statistically significant difference in frequencies. In other words, we are testing whether there is a relationship between categorical variables or rather when the variables are independent. This test is an alternative to Fisher's exact test and is used in scenarios where sample sizes are larger. However, with a large enough sample size, both tests produce similar results. Read more about the Chi Squared test [here](https://en.wikipedia.org/wiki/Chi-squared_test).\n",
    "\n",
    "In the cell below, create a contingency table using `pd.crosstab` comparing whether a Pokemon is legenadary or not and whether the Type 1 of a Pokemon is water or not."
   ]
  },
  {
   "cell_type": "code",
   "execution_count": null,
   "metadata": {},
   "outputs": [],
   "source": [
    "# Your code here:\n"
   ]
  },
  {
   "cell_type": "markdown",
   "metadata": {},
   "source": [
    "Perform a chi-squared test using the `chi2_contingency` function in `scipy.stats`. You can read the documentation of the function [here](https://docs.scipy.org/doc/scipy-0.15.1/reference/generated/scipy.stats.chi2_contingency.html)."
   ]
  },
  {
   "cell_type": "code",
   "execution_count": null,
   "metadata": {},
   "outputs": [],
   "source": [
    "# Your code here:\n",
    "\n"
   ]
  },
  {
   "cell_type": "markdown",
   "metadata": {},
   "source": [
    "Based on a 95% confidence, should we reject the null hypothesis?"
   ]
  },
  {
   "cell_type": "code",
   "execution_count": null,
   "metadata": {},
   "outputs": [],
   "source": [
    "# Your answer here:\n",
    "\n"
   ]
  },
  {
   "cell_type": "code",
   "execution_count": null,
   "metadata": {},
   "outputs": [],
   "source": []
  }
 ],
 "metadata": {
  "kernelspec": {
   "display_name": "Python 3",
   "language": "python",
   "name": "python3"
  },
  "language_info": {
   "codemirror_mode": {
    "name": "ipython",
    "version": 3
   },
   "file_extension": ".py",
   "mimetype": "text/x-python",
   "name": "python",
   "nbconvert_exporter": "python",
   "pygments_lexer": "ipython3",
   "version": "3.8.5-final"
  }
 },
 "nbformat": 4,
 "nbformat_minor": 2
}